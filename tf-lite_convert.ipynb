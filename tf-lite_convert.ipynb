{
 "cells": [
  {
   "cell_type": "markdown",
   "source": [
    "### Optimize Models with TF-Lite\n",
    "`float16` quantization"
   ],
   "metadata": {
    "collapsed": false
   }
  },
  {
   "cell_type": "code",
   "execution_count": 1,
   "outputs": [],
   "source": [
    "import os\n",
    "import tensorflow as tf"
   ],
   "metadata": {
    "collapsed": false
   }
  },
  {
   "cell_type": "code",
   "execution_count": 2,
   "outputs": [],
   "source": [
    "# disable GPU: we want to measure inference time on CPU\n",
    "os.environ['CUDA_VISIBLE_DEVICES'] = '-1'"
   ],
   "metadata": {
    "collapsed": false
   }
  },
  {
   "cell_type": "code",
   "execution_count": 3,
   "outputs": [],
   "source": [
    "import ad\n",
    "\n",
    "from ad import utils\n",
    "from ad.models.vae import COD2VAE\n",
    "from ad.models.dual_ae import CoDAE\n",
    "from ad.optimize import ModelOptimizer"
   ],
   "metadata": {
    "collapsed": false
   }
  },
  {
   "cell_type": "code",
   "execution_count": 4,
   "outputs": [
    {
     "name": "stdout",
     "output_type": "stream",
     "text": [
      "Random seed 42 set.\n"
     ]
    }
   ],
   "source": [
    "utils.set_random_seed(42)\n",
    "ad.plot.set_style(default_cmap=ad.plot.CMAP2)"
   ],
   "metadata": {
    "collapsed": false
   }
  },
  {
   "cell_type": "code",
   "execution_count": 5,
   "outputs": [],
   "source": [
    "%load_ext autoreload\n",
    "%autoreload 2"
   ],
   "metadata": {
    "collapsed": false
   }
  },
  {
   "cell_type": "markdown",
   "source": [
    "### CoDAE"
   ],
   "metadata": {
    "collapsed": false
   }
  },
  {
   "cell_type": "code",
   "execution_count": 6,
   "outputs": [
    {
     "name": "stdout",
     "output_type": "stream",
     "text": [
      "Loaded from \"weights\\codae\\weights-30-0.873\"\n"
     ]
    }
   ],
   "source": [
    "model = CoDAE(image_shape=(72, 58, 1), latent_size=64,\n",
    "              encoder1=dict(depths=(1, 1, 1, 1), filters=[64, 128, 128, 256],\n",
    "                            groups=4),\n",
    "              encoder2=dict(filters=[64, 128, 128, 256], groups=2),\n",
    "              decoder=dict(filters=[256, 128, 128, 64], depths=(1, 1, 1, 1),\n",
    "                           bias=-1.0, groups=4))\n",
    "\n",
    "utils.load_from_checkpoint(model, path='codae', mode='max')"
   ],
   "metadata": {
    "collapsed": false
   }
  },
  {
   "cell_type": "markdown",
   "source": [
    "Convert the model to tf-lite"
   ],
   "metadata": {
    "collapsed": false
   }
  },
  {
   "cell_type": "code",
   "execution_count": null,
   "outputs": [],
   "source": [
    "encoder_opt = ModelOptimizer(path='weights/tf-lite/codae/')\n",
    "encoder_opt.from_keras_model(model=model.encoder1)\n",
    "encoder_opt.convert()\n",
    "encoder_opt.save(file='encoder1_quant_f16.tflite')"
   ],
   "metadata": {
    "collapsed": false,
    "pycharm": {
     "is_executing": true
    }
   }
  },
  {
   "cell_type": "code",
   "execution_count": null,
   "outputs": [],
   "source": [
    "mask_opt = ModelOptimizer(path='weights/tf-lite/codae/')\n",
    "mask_opt.from_keras_model(model=model.encoder2)\n",
    "mask_opt.convert()\n",
    "mask_opt.save(file='encoder2_quant_f16.tflite')"
   ],
   "metadata": {
    "collapsed": false,
    "pycharm": {
     "is_executing": true
    }
   }
  },
  {
   "cell_type": "code",
   "execution_count": null,
   "outputs": [],
   "source": [
    "decoder_opt = ModelOptimizer(path='weights/tf-lite/codae/')\n",
    "decoder_opt.from_keras_model(model=model.decoder)\n",
    "decoder_opt.convert()\n",
    "decoder_opt.save(file='decoder_quant_f16.tflite')"
   ],
   "metadata": {
    "collapsed": false,
    "pycharm": {
     "is_executing": true
    }
   }
  },
  {
   "cell_type": "markdown",
   "source": [
    "Measure inference time (batch_size = 1)"
   ],
   "metadata": {
    "collapsed": false
   }
  },
  {
   "cell_type": "code",
   "execution_count": 40,
   "outputs": [],
   "source": [
    "encoder_opt.interpret()\n",
    "mask_opt.interpret()\n",
    "decoder_opt.interpret()"
   ],
   "metadata": {
    "collapsed": false
   }
  },
  {
   "cell_type": "code",
   "execution_count": 41,
   "outputs": [],
   "source": [
    "test_image = tf.random.normal((1, 72, 58, 1))\n",
    "test_z = encoder_opt.inference(test_image)\n",
    "test_zm = mask_opt.inference(test_image)"
   ],
   "metadata": {
    "collapsed": false
   }
  },
  {
   "cell_type": "code",
   "execution_count": 42,
   "outputs": [
    {
     "name": "stdout",
     "output_type": "stream",
     "text": [
      "4.75 ms ± 40.3 µs per loop (mean ± std. dev. of 7 runs, 100 loops each)\n",
      "3.03 ms ± 75 µs per loop (mean ± std. dev. of 7 runs, 100 loops each)\n",
      "32.3 ms ± 110 µs per loop (mean ± std. dev. of 7 runs, 100 loops each)\n"
     ]
    }
   ],
   "source": [
    "%timeit -n 100 encoder_opt.inference(test_image)\n",
    "%timeit -n 100 mask_opt.inference(test_image)\n",
    "%timeit -n 100 decoder_opt.inference([test_z, test_zm])"
   ],
   "metadata": {
    "collapsed": false
   }
  },
  {
   "cell_type": "markdown",
   "source": [
    "### Categorical CoDVAE"
   ],
   "metadata": {
    "collapsed": false
   }
  },
  {
   "cell_type": "code",
   "execution_count": 7,
   "outputs": [
    {
     "name": "stdout",
     "output_type": "stream",
     "text": [
      "Loaded from \"weights\\categorical_codvae\\weights-100-0.766\"\n"
     ]
    }
   ],
   "source": [
    "vae = COD2VAE(image_shape=(72, 58, 1), latent_size=64, tau=1.0,\n",
    "              large_encoder=dict(depths=(1, 1, 1, 1), filters=[64, 128, 128, 256],\n",
    "                                 groups=4),\n",
    "              mask_encoder=dict(filters=[64, 128, 128, 256], groups=2),\n",
    "              decoder=dict(filters=[256, 128, 128, 64], depths=(1, 1, 1, 1),\n",
    "                           bias=-1.0, groups=4))\n",
    "\n",
    "utils.load_from_checkpoint(vae, path='categorical_codvae', mode='max')"
   ],
   "metadata": {
    "collapsed": false
   }
  },
  {
   "cell_type": "code",
   "execution_count": 29,
   "outputs": [],
   "source": [
    "encoder_opt = ModelOptimizer(path='weights/tf-lite/codvae/')\n",
    "encoder_opt.from_keras_model(model=vae.energy_encoder)\n",
    "\n",
    "encoder_opt.convert()\n",
    "encoder_opt.save(file='large_encoder_quant_f16.tflite')"
   ],
   "metadata": {
    "collapsed": false
   }
  },
  {
   "cell_type": "code",
   "execution_count": null,
   "outputs": [],
   "source": [
    "mask_opt = ModelOptimizer(path='weights/tf-lite/codvae/')\n",
    "mask_opt.from_keras_model(model=vae.mask_encoder)\n",
    "\n",
    "mask_opt.convert()\n",
    "mask_opt.save(file='mask_encoder_quant_f16.tflite')"
   ],
   "metadata": {
    "collapsed": false,
    "pycharm": {
     "is_executing": true
    }
   }
  },
  {
   "cell_type": "code",
   "execution_count": 30,
   "outputs": [],
   "source": [
    "decoder_opt = ModelOptimizer(path='weights/tf-lite/codvae/')\n",
    "decoder_opt.from_keras_model(model=vae.decoder)\n",
    "\n",
    "decoder_opt.convert()\n",
    "decoder_opt.save(file='decoder_quant_f16.tflite')"
   ],
   "metadata": {
    "collapsed": false
   }
  },
  {
   "cell_type": "markdown",
   "source": [
    "Measure inference time"
   ],
   "metadata": {
    "collapsed": false
   }
  },
  {
   "cell_type": "code",
   "execution_count": 32,
   "outputs": [],
   "source": [
    "encoder_opt.interpret()\n",
    "mask_opt.interpret()\n",
    "decoder_opt.interpret()"
   ],
   "metadata": {
    "collapsed": false
   }
  },
  {
   "cell_type": "code",
   "execution_count": 33,
   "outputs": [],
   "source": [
    "test_image = tf.random.normal((1, 72, 58, 1))\n",
    "test_z = encoder_opt.inference(test_image)[0]  # discard tau output\n",
    "test_zm = mask_opt.inference(test_image)"
   ],
   "metadata": {
    "collapsed": false
   }
  },
  {
   "cell_type": "code",
   "execution_count": 35,
   "outputs": [
    {
     "name": "stdout",
     "output_type": "stream",
     "text": [
      "7.38 ms ± 622 µs per loop (mean ± std. dev. of 7 runs, 100 loops each)\n",
      "3.05 ms ± 56 µs per loop (mean ± std. dev. of 7 runs, 100 loops each)\n",
      "32.8 ms ± 51.8 µs per loop (mean ± std. dev. of 7 runs, 100 loops each)\n"
     ]
    }
   ],
   "source": [
    "%timeit -n 100 encoder_opt.inference(test_image)\n",
    "%timeit -n 100 mask_opt.inference(test_image)\n",
    "%timeit -n 100 decoder_opt.inference([test_z, test_zm])"
   ],
   "metadata": {
    "collapsed": false
   }
  }
 ],
 "metadata": {
  "kernelspec": {
   "display_name": "Python 3",
   "language": "python",
   "name": "python3"
  },
  "language_info": {
   "codemirror_mode": {
    "name": "ipython",
    "version": 2
   },
   "file_extension": ".py",
   "mimetype": "text/x-python",
   "name": "python",
   "nbconvert_exporter": "python",
   "pygments_lexer": "ipython2",
   "version": "2.7.6"
  }
 },
 "nbformat": 4,
 "nbformat_minor": 0
}
